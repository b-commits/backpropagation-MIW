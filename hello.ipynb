{
 "metadata": {
  "language_info": {
   "codemirror_mode": {
    "name": "ipython",
    "version": 3
   },
   "file_extension": ".py",
   "mimetype": "text/x-python",
   "name": "python",
   "nbconvert_exporter": "python",
   "pygments_lexer": "ipython3",
   "version": "3.9.2-final"
  },
  "orig_nbformat": 2,
  "kernelspec": {
   "name": "python3",
   "display_name": "Python 3.9.2 64-bit",
   "metadata": {
    "interpreter": {
     "hash": "ac1a04b4ee43ab9e26fb3a0460317882c2f2f32f4dc338cfcf4c436515f18d12"
    }
   }
  }
 },
 "nbformat": 4,
 "nbformat_minor": 2,
 "cells": [
  {
   "cell_type": "code",
   "execution_count": 13,
   "metadata": {},
   "outputs": [],
   "source": [
    "import pandas as pd\n",
    "import numpy as np\n",
    "\n",
    "# prepare the data\n",
    "iris_df = pd.read_csv('Iris.csv')\n",
    "train_x = iris_df.iloc[:, 1:5]\n",
    "train_y = iris_df.iloc[:, 5]\n",
    "\n",
    "# change categorical features to numeric\n",
    "train_y = train_y.replace({'Iris-setosa' : 0, 'Iris-versicolor' : 0.5, 'Iris-virginica': 1})"
   ]
  },
  {
   "cell_type": "code",
   "execution_count": 16,
   "metadata": {},
   "outputs": [
    {
     "output_type": "error",
     "ename": "IndentationError",
     "evalue": "expected an indented block (<ipython-input-16-4509943430b1>, line 29)",
     "traceback": [
      "\u001b[1;36m  File \u001b[1;32m\"<ipython-input-16-4509943430b1>\"\u001b[1;36m, line \u001b[1;32m29\u001b[0m\n\u001b[1;33m    def sigmoid_unipolar(weighted_sum):\u001b[0m\n\u001b[1;37m                                       ^\u001b[0m\n\u001b[1;31mIndentationError\u001b[0m\u001b[1;31m:\u001b[0m expected an indented block\n"
     ]
    }
   ],
   "source": [
    "'''\n",
    "-i --input  : Input file for training network\n",
    "--test_split : What part of data should be used for validation (default 0.3)\n",
    "-e --learning_factor: Learning factor\n",
    "--bipolar : If set use bipolar function otherwise unipolar\n",
    "-h --hidden Size of hidden layer   \n",
    "'''\n",
    "\n",
    "class NeuralNetwork(object):\n",
    "    def __init__(self, input):\n",
    "        self.input = input                          # matrix of numerical attributes for irises\n",
    "        self.output_size = 3                        # number of nodes in output layer\n",
    "        self.hidden_size = 2                        # number of nodes in the hidden layer \n",
    "        self.weights_ih = np.random.randn(2, 4)     # weights of connections between input and hidden layer\n",
    "        self.weights_ho = np.random.randn(3, 2)     # weights of connections between hidden layer and output\n",
    "        self.bias_h = np.random.randn(2, 1)         # bias for the hidden layer\n",
    "        self.bias_o = np.random.randn(3, 1)         # bias for the output layer\n",
    "\n",
    "\n",
    "    def feed_forward(self):\n",
    "        layer_two_y = sigmoid_unipolar((np.matmul(self.weights_ih, self.input)) + self.bias_h)      # layer_two_y dim: (2x1)\n",
    "        layer_three_y = sigmoid_unipolar((np.matmul(self.weights_ho, layer_two_y)) + self.bias_o)   # layer_three_y dim: (3x1)\n",
    "        return layer_three_y                                                                        # prediction\n",
    "\n",
    "    def propagate_backwards(self, input, y, output):\n",
    "        \n",
    "\n",
    "'''\n",
    "Activation functions.\n",
    ":param s: weighted sum of inputs and weights with added bias\n",
    ":param get_derivative: whether or not to get derivative of the function\n",
    "'''\n",
    "def sigmoid_unipolar(s, get_derivative = False):\n",
    "    return 1/(1+np.exp(-s))\n",
    "\n",
    "def sigmoid_bipolar(s, get_derivative = False):\n",
    "    return (2/(1+np.exp(-s))-1)\n",
    "\n",
    "arr = np.array([[1], [2], [3], [4]])\n",
    "\n",
    "nn = NeuralNetwork(arr)\n",
    "\n",
    "print(nn.feed_forward())\n",
    "\n",
    "\n"
   ]
  },
  {
   "cell_type": "code",
   "execution_count": null,
   "metadata": {},
   "outputs": [],
   "source": []
  }
 ]
}