{
 "metadata": {
  "language_info": {
   "codemirror_mode": {
    "name": "ipython",
    "version": 3
   },
   "file_extension": ".py",
   "mimetype": "text/x-python",
   "name": "python",
   "nbconvert_exporter": "python",
   "pygments_lexer": "ipython3",
   "version": "3.9.2"
  },
  "orig_nbformat": 2,
  "kernelspec": {
   "name": "python3",
   "display_name": "Python 3.9.2 64-bit",
   "metadata": {
    "interpreter": {
     "hash": "ac1a04b4ee43ab9e26fb3a0460317882c2f2f32f4dc338cfcf4c436515f18d12"
    }
   }
  }
 },
 "nbformat": 4,
 "nbformat_minor": 2,
 "cells": [
  {
   "cell_type": "code",
   "execution_count": 166,
   "metadata": {},
   "outputs": [],
   "source": [
    "import pandas as pd\n",
    "import numpy as np\n",
    "\n",
    "# prepare the data\n",
    "dataset = pd.read_csv('Iris.csv')\n",
    "X = dataset[[\"SepalLengthCm\", \"SepalWidthCm\", \"PetalLengthCm\", \"PetalWidthCm\"]].values\n",
    "Y = np.array([0, 0.5, 1])       # setosa, versicolor, viriginica\n",
    "## Y = Y.replace({'Iris-setosa' : 0, 'Iris-versicolor' : 0.5, 'Iris-virginica': 1}).values"
   ]
  },
  {
   "cell_type": "code",
   "execution_count": 167,
   "metadata": {},
   "outputs": [],
   "source": [
    "class NeuralNetwork(object):\n",
    "    def __init__(self):\n",
    "        self.learning_rate = 0.1                        \n",
    "        self.output_size = 3                       \n",
    "        self.hidden_size = 2                         \n",
    "        self.weights_ih = np.random.randn(2, 4)     \n",
    "        self.weights_ho = np.random.randn(3, 2)     \n",
    "        self.bias_h = np.random.randn(2)*-1        \n",
    "        self.bias_o = np.random.randn(3)*-1     \n",
    "\n",
    "    # chyba działa?\n",
    "    def feed_forward(self, input):\n",
    "        self.layer_two_y = sigmoid_unipolar((np.matmul(self.weights_ih, input)) + self.bias_h)                  # layer_two_y dim: (2x1)\n",
    "        self.layer_three_y = sigmoid_unipolar((np.matmul(self.weights_ho, self.layer_two_y)) + self.bias_o)     # layer_three_y dim: (3x1)  \n",
    "        return self.layer_three_y \n",
    "\n",
    "    def propagate_backwards(self, input, output, y):\n",
    "        self.output_errors = y - output\n",
    "        print('Output_errors dim: ' + str(self.output_errors.shape))                                           # (3x1)\n",
    "        self.hidden_errors = np.matmul(self.weights_ho.T, self.output_errors)                                  # (2x1)\n",
    "        print('Hidden_errors dim: ' + str(self.hidden_errors.shape))\n",
    "\n",
    "        print(y.size)\n",
    "        weights_ho = np.matmul(self.output_errors*sigmoid_unipolar(self.layer_three_y, True),self.layer_two_y.T)\n",
    "        weights_ih = np.matmul(self.hidden_errors*sigmoid_unipolar(self.layer_two_y, True), self.input.T)\n",
    "    \n",
    "    # x - input, y - output (guess), \n",
    "    def train(self, X, y):\n",
    "        output = self.feed_forward(X)\n",
    "        self.propagate_backwards(X, layer_three_y)\n",
    "\n",
    "def sigmoid_unipolar(s, get_derivative = False):\n",
    "    if (get_derivative):\n",
    "        return s*(1-s)\n",
    "    return 1/(1+np.exp(-s))\n",
    "\n",
    "def sigmoid_bipolar(s, get_derivative = False):\n",
    "    if (get_derivative):\n",
    "        return s*(1-s)\n",
    "    return (2/(1+np.exp(-s))-1)"
   ]
  },
  {
   "source": [
    "nn = NeuralNetwork()\n",
    "\n",
    "\n",
    "for idx, row in enumerate(X):\n",
    "    output = nn.feed_forward(row)\n",
    "    nn.propagate_backwards(row, output, Y) \n",
    "\n",
    "\n"
   ],
   "cell_type": "code",
   "metadata": {},
   "execution_count": 169,
   "outputs": [
    {
     "output_type": "stream",
     "name": "stdout",
     "text": [
      "Output_errors dim: (3,)\nHidden_errors dim: (2,)\n3\n"
     ]
    },
    {
     "output_type": "error",
     "ename": "ValueError",
     "evalue": "matmul: Input operand 1 has a mismatch in its core dimension 0, with gufunc signature (n?,k),(k,m?)->(n?,m?) (size 2 is different from 3)",
     "traceback": [
      "\u001b[1;31m---------------------------------------------------------------------------\u001b[0m",
      "\u001b[1;31mValueError\u001b[0m                                Traceback (most recent call last)",
      "\u001b[1;32m<ipython-input-169-d1fbf3981d38>\u001b[0m in \u001b[0;36m<module>\u001b[1;34m\u001b[0m\n\u001b[0;32m      4\u001b[0m \u001b[1;32mfor\u001b[0m \u001b[0midx\u001b[0m\u001b[1;33m,\u001b[0m \u001b[0mrow\u001b[0m \u001b[1;32min\u001b[0m \u001b[0menumerate\u001b[0m\u001b[1;33m(\u001b[0m\u001b[0mX\u001b[0m\u001b[1;33m)\u001b[0m\u001b[1;33m:\u001b[0m\u001b[1;33m\u001b[0m\u001b[1;33m\u001b[0m\u001b[0m\n\u001b[0;32m      5\u001b[0m     \u001b[0moutput\u001b[0m \u001b[1;33m=\u001b[0m \u001b[0mnn\u001b[0m\u001b[1;33m.\u001b[0m\u001b[0mfeed_forward\u001b[0m\u001b[1;33m(\u001b[0m\u001b[0mrow\u001b[0m\u001b[1;33m)\u001b[0m\u001b[1;33m\u001b[0m\u001b[1;33m\u001b[0m\u001b[0m\n\u001b[1;32m----> 6\u001b[1;33m     \u001b[0mnn\u001b[0m\u001b[1;33m.\u001b[0m\u001b[0mpropagate_backwards\u001b[0m\u001b[1;33m(\u001b[0m\u001b[0mrow\u001b[0m\u001b[1;33m,\u001b[0m \u001b[0moutput\u001b[0m\u001b[1;33m,\u001b[0m \u001b[0mY\u001b[0m\u001b[1;33m)\u001b[0m\u001b[1;33m\u001b[0m\u001b[1;33m\u001b[0m\u001b[0m\n\u001b[0m\u001b[0;32m      7\u001b[0m \u001b[1;33m\u001b[0m\u001b[0m\n\u001b[0;32m      8\u001b[0m \u001b[1;33m\u001b[0m\u001b[0m\n",
      "\u001b[1;32m<ipython-input-167-696eb6dd3ab6>\u001b[0m in \u001b[0;36mpropagate_backwards\u001b[1;34m(self, input, output, y)\u001b[0m\n\u001b[0;32m     22\u001b[0m \u001b[1;33m\u001b[0m\u001b[0m\n\u001b[0;32m     23\u001b[0m         \u001b[0mprint\u001b[0m\u001b[1;33m(\u001b[0m\u001b[0my\u001b[0m\u001b[1;33m.\u001b[0m\u001b[0msize\u001b[0m\u001b[1;33m)\u001b[0m\u001b[1;33m\u001b[0m\u001b[1;33m\u001b[0m\u001b[0m\n\u001b[1;32m---> 24\u001b[1;33m         \u001b[0mweights_ho\u001b[0m \u001b[1;33m=\u001b[0m \u001b[0mnp\u001b[0m\u001b[1;33m.\u001b[0m\u001b[0mmatmul\u001b[0m\u001b[1;33m(\u001b[0m\u001b[0mself\u001b[0m\u001b[1;33m.\u001b[0m\u001b[0moutput_errors\u001b[0m\u001b[1;33m*\u001b[0m\u001b[0msigmoid_unipolar\u001b[0m\u001b[1;33m(\u001b[0m\u001b[0mself\u001b[0m\u001b[1;33m.\u001b[0m\u001b[0mlayer_three_y\u001b[0m\u001b[1;33m,\u001b[0m \u001b[1;32mTrue\u001b[0m\u001b[1;33m)\u001b[0m\u001b[1;33m,\u001b[0m\u001b[0mself\u001b[0m\u001b[1;33m.\u001b[0m\u001b[0mlayer_two_y\u001b[0m\u001b[1;33m.\u001b[0m\u001b[0mT\u001b[0m\u001b[1;33m)\u001b[0m\u001b[1;33m\u001b[0m\u001b[1;33m\u001b[0m\u001b[0m\n\u001b[0m\u001b[0;32m     25\u001b[0m         \u001b[0mweights_ih\u001b[0m \u001b[1;33m=\u001b[0m \u001b[0mnp\u001b[0m\u001b[1;33m.\u001b[0m\u001b[0mmatmul\u001b[0m\u001b[1;33m(\u001b[0m\u001b[0mself\u001b[0m\u001b[1;33m.\u001b[0m\u001b[0mhidden_errors\u001b[0m\u001b[1;33m*\u001b[0m\u001b[0msigmoid_unipolar\u001b[0m\u001b[1;33m(\u001b[0m\u001b[0mself\u001b[0m\u001b[1;33m.\u001b[0m\u001b[0mlayer_two_y\u001b[0m\u001b[1;33m,\u001b[0m \u001b[1;32mTrue\u001b[0m\u001b[1;33m)\u001b[0m\u001b[1;33m,\u001b[0m \u001b[0mself\u001b[0m\u001b[1;33m.\u001b[0m\u001b[0minput\u001b[0m\u001b[1;33m.\u001b[0m\u001b[0mT\u001b[0m\u001b[1;33m)\u001b[0m\u001b[1;33m\u001b[0m\u001b[1;33m\u001b[0m\u001b[0m\n\u001b[0;32m     26\u001b[0m \u001b[1;33m\u001b[0m\u001b[0m\n",
      "\u001b[1;31mValueError\u001b[0m: matmul: Input operand 1 has a mismatch in its core dimension 0, with gufunc signature (n?,k),(k,m?)->(n?,m?) (size 2 is different from 3)"
     ]
    }
   ]
  },
  {
   "cell_type": "code",
   "execution_count": null,
   "metadata": {},
   "outputs": [],
   "source": []
  }
 ]
}